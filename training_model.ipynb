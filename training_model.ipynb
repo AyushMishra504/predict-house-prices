{
  "nbformat": 4,
  "nbformat_minor": 0,
  "metadata": {
    "colab": {
      "provenance": [],
      "authorship_tag": "ABX9TyNXhVWY1TbkhSrnsrl6wquI",
      "include_colab_link": true
    },
    "kernelspec": {
      "name": "python3",
      "display_name": "Python 3"
    },
    "language_info": {
      "name": "python"
    }
  },
  "cells": [
    {
      "cell_type": "markdown",
      "metadata": {
        "id": "view-in-github",
        "colab_type": "text"
      },
      "source": [
        "<a href=\"https://colab.research.google.com/github/AyushMishra504/predict-house-prices/blob/main/training_model.ipynb\" target=\"_parent\"><img src=\"https://colab.research.google.com/assets/colab-badge.svg\" alt=\"Open In Colab\"/></a>"
      ]
    },
    {
      "cell_type": "code",
      "execution_count": 24,
      "metadata": {
        "id": "GRmqZpWoq4PM"
      },
      "outputs": [],
      "source": [
        "import sklearn\n",
        "import pandas as pd\n",
        "import numpy as np\n",
        "from sklearn.model_selection import train_test_split\n",
        "from sklearn.linear_model import LinearRegression\n",
        "from sklearn.metrics import mean_absolute_error, mean_squared_error, r2_score\n",
        "import joblib"
      ]
    },
    {
      "cell_type": "code",
      "source": [
        "df = pd.read_csv('/content/sample_data/processed.csv')"
      ],
      "metadata": {
        "id": "1PtYYvTurda4"
      },
      "execution_count": 18,
      "outputs": []
    },
    {
      "cell_type": "code",
      "source": [
        "try:\n",
        "  X = df.drop(columns=['price'])\n",
        "  y = df['price']\n",
        "except:\n",
        "  print(\"Column already dropped\")"
      ],
      "metadata": {
        "id": "mPrBvIKYz_px"
      },
      "execution_count": 20,
      "outputs": []
    },
    {
      "cell_type": "markdown",
      "source": [
        "Dropping price column doesn’t change the dataset itself—it just ensures that price isn’t mistakenly used as an input during training."
      ],
      "metadata": {
        "id": "7p4nZP5k0cXm"
      }
    },
    {
      "cell_type": "code",
      "source": [
        "#splitting dataset into training and testing sets\n",
        "#80% training, 20% testing\n",
        "X_train, X_test, y_train, y_test = train_test_split(X, y, test_size=0.2, random_state=42)\n"
      ],
      "metadata": {
        "id": "mvc8xNot0tGK"
      },
      "execution_count": 21,
      "outputs": []
    },
    {
      "cell_type": "markdown",
      "source": [
        "X_train → 80% of the features (used to train the model)\n",
        "\n",
        "X_test → 20% of the features (used to test the model)\n",
        "\n",
        "y_train → 80% of the target values (price) for training\n",
        "\n",
        "y_test → 20% of the target values (price) for testing"
      ],
      "metadata": {
        "id": "vr9CcmQn1QSG"
      }
    },
    {
      "cell_type": "code",
      "source": [
        "#training the linear regression model\n",
        "model = LinearRegression()\n",
        "model.fit(X_train, y_train)\n",
        "\n",
        "#making predictions\n",
        "y_pred = model.predict(X_test)"
      ],
      "metadata": {
        "id": "XrvHpjbh1f7X"
      },
      "execution_count": 22,
      "outputs": []
    },
    {
      "cell_type": "code",
      "source": [
        "#printing evaluation metric\n",
        "\n",
        "mae = mean_absolute_error(y_test, y_pred)\n",
        "mse = mean_squared_error(y_test, y_pred)\n",
        "r2 = r2_score(y_test, y_pred)\n",
        "\n",
        "print(f\"Mean Absolute Error: {mae}\")\n",
        "print(f\"Mean Squared Error: {mse}\")\n",
        "print(f\"R² Score: {r2}\")\n"
      ],
      "metadata": {
        "colab": {
          "base_uri": "https://localhost:8080/"
        },
        "id": "28uXrHaO1xF1",
        "outputId": "9fa7bb28-7d4d-4d24-8015-2e493d753326"
      },
      "execution_count": 23,
      "outputs": [
        {
          "output_type": "stream",
          "name": "stdout",
          "text": [
            "Mean Absolute Error: 167422.50033431454\n",
            "Mean Squared Error: 65548102000.552025\n",
            "R² Score: 0.37475248028193986\n"
          ]
        }
      ]
    },
    {
      "cell_type": "markdown",
      "source": [
        " MAE (Mean Absolute Error) → Average absolute difference between predicted and actual prices.\n",
        "\n",
        " MSE (Mean Squared Error) → Average squared difference between predicted and actual prices.\n",
        "\n",
        " R² Score (R-Squared) → Measures how well the model explains the data (0 to 1).\n",
        "\n",
        "R² = 1 → Perfect fit\n",
        "\n",
        "R² = 0 → Model is no better than guessing"
      ],
      "metadata": {
        "id": "5SWeJeBM11Zc"
      }
    },
    {
      "cell_type": "code",
      "source": [
        "#saving the trained model\n",
        "joblib.dump(model, 'house_price_model.pkl')\n",
        "print(\"Model saved successfully!\")"
      ],
      "metadata": {
        "colab": {
          "base_uri": "https://localhost:8080/"
        },
        "id": "qYQg6Mhl2sfT",
        "outputId": "044dfd82-e667-4dfe-b83e-c15e5d8ba1ee"
      },
      "execution_count": 25,
      "outputs": [
        {
          "output_type": "stream",
          "name": "stdout",
          "text": [
            "Model saved successfully!\n"
          ]
        }
      ]
    }
  ]
}
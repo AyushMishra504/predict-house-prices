{
  "nbformat": 4,
  "nbformat_minor": 0,
  "metadata": {
    "colab": {
      "provenance": [],
      "authorship_tag": "ABX9TyPbO3u2uSx28C5ObGNbbRGT",
      "include_colab_link": true
    },
    "kernelspec": {
      "name": "python3",
      "display_name": "Python 3"
    },
    "language_info": {
      "name": "python"
    }
  },
  "cells": [
    {
      "cell_type": "markdown",
      "metadata": {
        "id": "view-in-github",
        "colab_type": "text"
      },
      "source": [
        "<a href=\"https://colab.research.google.com/github/AyushMishra504/predict-house-prices/blob/main/preprocess.ipynb\" target=\"_parent\"><img src=\"https://colab.research.google.com/assets/colab-badge.svg\" alt=\"Open In Colab\"/></a>"
      ]
    },
    {
      "cell_type": "code",
      "execution_count": 20,
      "metadata": {
        "id": "1ndQ39dQivYE"
      },
      "outputs": [],
      "source": [
        "import pandas as pd\n",
        "import numpy as np\n",
        "from sklearn.preprocessing import StandardScaler"
      ]
    },
    {
      "cell_type": "code",
      "source": [
        "#importing the dataframe\n",
        "df = pd.read_csv('Housing_Dataset.csv')"
      ],
      "metadata": {
        "id": "XEvgjAYRkooO"
      },
      "execution_count": 21,
      "outputs": []
    },
    {
      "cell_type": "code",
      "source": [
        "#checking for missing values\n",
        "print(df.isnull().sum())\n",
        "#since all values are 0, this means that the data has no null values"
      ],
      "metadata": {
        "colab": {
          "base_uri": "https://localhost:8080/"
        },
        "id": "DSFVSwmalFEQ",
        "outputId": "f41ea23e-8c35-48a4-f9fc-65c51265726c"
      },
      "execution_count": 22,
      "outputs": [
        {
          "output_type": "stream",
          "name": "stdout",
          "text": [
            "date             0\n",
            "price            0\n",
            "bedrooms         0\n",
            "bathrooms        0\n",
            "sqft_living      0\n",
            "sqft_lot         0\n",
            "floors           0\n",
            "waterfront       0\n",
            "view             0\n",
            "condition        0\n",
            "sqft_above       0\n",
            "sqft_basement    0\n",
            "yr_built         0\n",
            "yr_renovated     0\n",
            "street           0\n",
            "city             0\n",
            "statezip         0\n",
            "country          0\n",
            "dtype: int64\n"
          ]
        }
      ]
    },
    {
      "cell_type": "code",
      "source": [
        "# dropping unecessary columns\n",
        "print(df.select_dtypes(include=['object']).columns)\n",
        "try:\n",
        "  df.drop(columns=['street', 'country','date','city', 'statezip'], inplace=True)\n",
        "except:\n",
        "  print('columns already dropped')\n",
        "\n",
        "print(df.select_dtypes(include=['int64', 'float64']).columns)"
      ],
      "metadata": {
        "colab": {
          "base_uri": "https://localhost:8080/"
        },
        "id": "hFAMx5WGld3Z",
        "outputId": "3d175887-5af3-49a9-b8e0-6bd5242020ef"
      },
      "execution_count": 23,
      "outputs": [
        {
          "output_type": "stream",
          "name": "stdout",
          "text": [
            "Index(['date', 'street', 'city', 'statezip', 'country'], dtype='object')\n",
            "Index(['price', 'bedrooms', 'bathrooms', 'sqft_living', 'sqft_lot', 'floors',\n",
            "       'waterfront', 'view', 'condition', 'sqft_above', 'sqft_basement',\n",
            "       'yr_built', 'yr_renovated'],\n",
            "      dtype='object')\n"
          ]
        }
      ]
    },
    {
      "cell_type": "code",
      "source": [
        "#We scale the data to ensure that all numerical features have a similar range, preventing large values from dominating and improving model performance\n",
        "#We are using Standardization (Z-score scaling), which transforms data to have a mean of 0 and a standard deviation of 1, making it suitable for models like Linear Regression and SVM.\n",
        "\n",
        "scaler = StandardScaler()\n",
        "num_cols = ['bedrooms', 'bathrooms', 'sqft_living', 'sqft_lot', 'floors',\n",
        "            'waterfront', 'view', 'condition', 'sqft_above', 'sqft_basement',\n",
        "            'yr_built', 'yr_renovated']\n",
        "df[num_cols] = scaler.fit_transform(df[num_cols])\n",
        "df.to_csv('processed.csv', index=False)"
      ],
      "metadata": {
        "id": "JclMY6D0pYS_"
      },
      "execution_count": 25,
      "outputs": []
    }
  ]
}